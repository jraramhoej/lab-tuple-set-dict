{
 "cells": [
  {
   "cell_type": "markdown",
   "metadata": {},
   "source": [
    "## Challenge 2: Sets\n",
    "\n",
    "There are a lot to learn about Python Sets and the information presented in the lesson is limited due to its length. To learn Python Sets in depth you are strongly encouraged to review the W3Schools tutorial on [Python Sets Examples and Methods](https://www.w3schools.com/python/python_sets.asp) before you work on this lab. Some difficult questions in this lab have their solutions in the W3Schools tutorial.\n",
    "\n",
    "#### First, import the Python `random` libary"
   ]
  },
  {
   "cell_type": "code",
   "execution_count": 1,
   "metadata": {},
   "outputs": [],
   "source": [
    "import random"
   ]
  },
  {
   "cell_type": "markdown",
   "metadata": {},
   "source": [
    "#### 1 - In the cell below, create a list named `sample_list_1` with 80 random values. \n",
    "\n",
    "Requirements:\n",
    "\n",
    "* Each value is an integer falling between 0 and 100.\n",
    "* Each value in the list is unique.\n",
    "\n",
    "Print `sample_list_1` to review its values\n",
    "\n",
    "*Hint: use `random.sample` ([reference](https://docs.python.org/3/library/random.html#random.sample)).*"
   ]
  },
  {
   "cell_type": "code",
   "execution_count": 2,
   "metadata": {},
   "outputs": [
    {
     "name": "stdout",
     "output_type": "stream",
     "text": [
      "[62, 9, 0, 99, 93, 24, 29, 63, 23, 88, 2, 10, 90, 55, 92, 21, 38, 95, 97, 6, 86, 68, 36, 26, 34, 12, 15, 19, 71, 79, 20, 28, 11, 78, 98, 56, 73, 70, 53, 59, 91, 50, 39, 77, 84, 81, 33, 5, 61, 14, 3, 35, 89, 41, 48, 75, 1, 32, 27, 22, 94, 60, 65, 85, 51, 96, 16, 82, 64, 46, 49, 66, 69, 31, 13, 18, 54, 57, 52, 43]\n"
     ]
    }
   ],
   "source": [
    "# Your code here\n",
    "\n",
    "# define sample list as an 80 elements sample from the range between 0 and 100.\n",
    "sample_list_1 = random.sample(range(100), 80)\n",
    "\n",
    "# print sample list\n",
    "print(sample_list_1)\n"
   ]
  },
  {
   "cell_type": "markdown",
   "metadata": {},
   "source": [
    "#### 2 - Convert `sample_list_1` to a set called `set1`. Print the length of the set. Is its length still 80?"
   ]
  },
  {
   "cell_type": "code",
   "execution_count": 3,
   "metadata": {},
   "outputs": [
    {
     "name": "stdout",
     "output_type": "stream",
     "text": [
      "80\n"
     ]
    }
   ],
   "source": [
    "# Your code here\n",
    "\n",
    "# convert sample list to set\n",
    "set1 = set(sample_list_1)\n",
    "\n",
    "# print length of set, which is still 80\n",
    "print(len(set1))"
   ]
  },
  {
   "cell_type": "markdown",
   "metadata": {},
   "source": [
    "#### 3 - Create another list named `sample_list_2` with 80 random values.\n",
    "\n",
    "Requirements:\n",
    "\n",
    "* Each value is an integer falling between 0 and 100.\n",
    "* The values in the list don't have to be unique.\n",
    "\n",
    "*Hint: Use a FOR loop.*"
   ]
  },
  {
   "cell_type": "code",
   "execution_count": 4,
   "metadata": {},
   "outputs": [
    {
     "name": "stdout",
     "output_type": "stream",
     "text": [
      "[6, 73, 3, 18, 43, 27, 69, 19, 41, 52, 74, 75, 21, 27, 29, 5, 34, 70, 87, 42, 65, 34, 54, 21, 6, 41, 54, 35, 97, 44, 45, 9, 20, 76, 50, 9, 43, 94, 95, 39, 96, 22, 81, 37, 49, 44, 26, 99, 71, 13, 75, 70, 61, 45, 67, 87, 4, 69, 31, 74, 87, 5, 13, 60, 10, 29, 42, 64, 16, 87, 8, 5, 29, 66, 57, 96, 74, 6, 61, 34]\n"
     ]
    }
   ],
   "source": [
    "# Your code here\n",
    "\n",
    "# Define an empty list\n",
    "sample_list_2 = []\n",
    "\n",
    "# append 80 random values from the 80 elements  range between 0 and 100 to the empty list, using a for loop.\n",
    "for integer in range(80):\n",
    "    sample_list_2.append(random.randint(0, 100))\n",
    "\n",
    "# print sample list\\n\"\n",
    "print(sample_list_2)"
   ]
  },
  {
   "cell_type": "markdown",
   "metadata": {},
   "source": [
    "#### 4 - Convert `sample_list_2` to a set called `set2`. Print the length of the set. Is its length still 80?"
   ]
  },
  {
   "cell_type": "code",
   "execution_count": 5,
   "metadata": {},
   "outputs": [
    {
     "name": "stdout",
     "output_type": "stream",
     "text": [
      "52\n"
     ]
    }
   ],
   "source": [
    "# Your code here\n",
    "\n",
    "# convert non-unique sample list to set\n",
    "set2 = set(sample_list_2)\n",
    "    \n",
    "# checking length of set. since the list was not unique, the length of the set will probably be less than 80\n",
    "print(len(set2))"
   ]
  },
  {
   "cell_type": "markdown",
   "metadata": {},
   "source": [
    "#### 5 - Identify the elements present in `set1` but not in `set2`. Assign the elements to a new set named `set3`."
   ]
  },
  {
   "cell_type": "code",
   "execution_count": 6,
   "metadata": {},
   "outputs": [
    {
     "name": "stdout",
     "output_type": "stream",
     "text": [
      "{0, 1, 2, 11, 12, 14, 15, 23, 24, 28, 32, 33, 36, 38, 46, 48, 51, 53, 55, 56, 59, 62, 63, 68, 77, 78, 79, 82, 84, 85, 86, 88, 89, 90, 91, 92, 93, 98}\n"
     ]
    }
   ],
   "source": [
    "# Your code here\n",
    "\n",
    "# identify elements present in set1, but not in set2, using difference method, assigning the elements to set3\n",
    "set3 = set1.difference(set2)\n",
    "    \n",
    "# print set3\n",
    "print(set3)"
   ]
  },
  {
   "cell_type": "markdown",
   "metadata": {},
   "source": [
    "#### 6 - Identify the elements present in `set2` but not in `set1`. Assign the elements to a new set named `set4`."
   ]
  },
  {
   "cell_type": "code",
   "execution_count": 7,
   "metadata": {},
   "outputs": [
    {
     "name": "stdout",
     "output_type": "stream",
     "text": [
      "{67, 4, 37, 8, 42, 74, 44, 45, 76, 87}\n"
     ]
    }
   ],
   "source": [
    "# Your code here\n",
    "\n",
    "# identify elements present in set2, but not in set1, using difference method, assigning the elements to set3\n",
    "set4 = set2.difference(set1)\n",
    "\n",
    "# print set4\n",
    "print(set4)"
   ]
  },
  {
   "cell_type": "markdown",
   "metadata": {},
   "source": [
    "#### 7 - Now Identify the elements shared between `set1` and `set2`. Assign the elements to a new set named `set5`."
   ]
  },
  {
   "cell_type": "code",
   "execution_count": 8,
   "metadata": {},
   "outputs": [
    {
     "name": "stdout",
     "output_type": "stream",
     "text": [
      "{3, 5, 6, 9, 10, 13, 16, 18, 19, 20, 21, 22, 26, 27, 29, 31, 34, 35, 39, 41, 43, 49, 50, 52, 54, 57, 60, 61, 64, 65, 66, 69, 70, 71, 73, 75, 81, 94, 95, 96, 97, 99}\n"
     ]
    }
   ],
   "source": [
    "# Your code here\n",
    "\n",
    "# identify elements present in both set1 and set2, i.e. the intersection of the sets, assigning it to set5\n",
    "set5 = set1.intersection(set2)\n",
    "    \n",
    "# print set5\n",
    "print(set5)"
   ]
  },
  {
   "cell_type": "markdown",
   "metadata": {},
   "source": [
    "#### 8 - Create an empty set called `set6`."
   ]
  },
  {
   "cell_type": "code",
   "execution_count": 9,
   "metadata": {},
   "outputs": [],
   "source": [
    "# Your code here\n",
    "# create empty set\n",
    "set6 = set()"
   ]
  },
  {
   "cell_type": "markdown",
   "metadata": {},
   "source": [
    "#### 9 - Add `set3` and `set5` to `set6` using the Python Set `update` method."
   ]
  },
  {
   "cell_type": "code",
   "execution_count": 10,
   "metadata": {},
   "outputs": [
    {
     "name": "stdout",
     "output_type": "stream",
     "text": [
      "{0, 1, 2, 3, 5, 6, 9, 10, 11, 12, 13, 14, 15, 16, 18, 19, 20, 21, 22, 23, 24, 26, 27, 28, 29, 31, 32, 33, 34, 35, 36, 38, 39, 41, 43, 46, 48, 49, 50, 51, 52, 53, 54, 55, 56, 57, 59, 60, 61, 62, 63, 64, 65, 66, 68, 69, 70, 71, 73, 75, 77, 78, 79, 81, 82, 84, 85, 86, 88, 89, 90, 91, 92, 93, 94, 95, 96, 97, 98, 99}\n"
     ]
    }
   ],
   "source": [
    "# Your code here\n",
    "\n",
    "# add set3 and set5 to set6\n",
    "set6.update(set3, set5)\n",
    "    \n",
    "# print set6\n",
    "print(set6)"
   ]
  },
  {
   "cell_type": "markdown",
   "metadata": {},
   "source": [
    "#### 10 - Check if `set1` and `set6` are equal."
   ]
  },
  {
   "cell_type": "code",
   "execution_count": 11,
   "metadata": {},
   "outputs": [
    {
     "data": {
      "text/plain": [
       "True"
      ]
     },
     "execution_count": 11,
     "metadata": {},
     "output_type": "execute_result"
    }
   ],
   "source": [
    "# Your code here\n",
    "\n",
    "# check if set1 and set6 are equal, which they are.\n",
    "set1 == set6"
   ]
  },
  {
   "cell_type": "markdown",
   "metadata": {},
   "source": [
    "#### 11 - Check if `set1` contains `set2` using the Python Set `issubset` method. Then check if `set1` contains `set3`.*"
   ]
  },
  {
   "cell_type": "code",
   "execution_count": 12,
   "metadata": {},
   "outputs": [
    {
     "name": "stdout",
     "output_type": "stream",
     "text": [
      "False\n",
      "True\n"
     ]
    }
   ],
   "source": [
    "# Your code here\n",
    "\n",
    "# check if set2 is a subset of set1\\n\",\n",
    "print(set2.issubset(set1))\n",
    "\n",
    "# check if set3 is a subset of set1\n",
    "print(set3.issubset(set1))"
   ]
  },
  {
   "cell_type": "markdown",
   "metadata": {},
   "source": [
    "#### 12 -Using the Python Set `union` method, aggregate `set3`, `set4`, and `set5`. Then aggregate `set1` and `set2`. \n",
    "\n",
    "#### Check if the aggregated values are equal."
   ]
  },
  {
   "cell_type": "code",
   "execution_count": 13,
   "metadata": {},
   "outputs": [
    {
     "data": {
      "text/plain": [
       "True"
      ]
     },
     "execution_count": 13,
     "metadata": {},
     "output_type": "execute_result"
    }
   ],
   "source": [
    "# Your code here\n",
    "\n",
    "# the union of set3, set4, and set5\n",
    "first_union = set3.union(set4, set5)\n",
    "\n",
    "# the union of set1 and set2\n",
    "second_union = set1.union(set2)\n",
    "\n",
    "# check if the two unions are equal, which they are.\n",
    "first_union == second_union"
   ]
  },
  {
   "cell_type": "markdown",
   "metadata": {},
   "source": [
    "#### 13 -Using the `pop` method, remove the first element from `set1`."
   ]
  },
  {
   "cell_type": "code",
   "execution_count": 14,
   "metadata": {},
   "outputs": [],
   "source": [
    "# Your code here\n",
    "\n",
    "# convert set to list, since sets are unordered\n",
    "pop_list = list(set1)\n",
    "\n",
    "# remove first element from the list\n",
    "pop_list.pop(0)\n",
    "\n",
    "# convert list back to set\n",
    "set1 = set(pop_list)"
   ]
  },
  {
   "cell_type": "markdown",
   "metadata": {},
   "source": [
    "#### 14 -Remove every element in the following list from `set1` if they are present in the set. Print the remaining elements.\n",
    "\n",
    "```\n",
    "list_to_remove = [1, 9, 11, 19, 21, 29, 31, 39, 41, 49, 51, 59, 61, 69, 71, 79, 81, 89, 91, 99]\n",
    "```"
   ]
  },
  {
   "cell_type": "code",
   "execution_count": 15,
   "metadata": {},
   "outputs": [
    {
     "name": "stdout",
     "output_type": "stream",
     "text": [
      "{2, 3, 5, 6, 10, 12, 13, 14, 15, 16, 18, 20, 22, 23, 24, 26, 27, 28, 32, 33, 34, 35, 36, 38, 43, 46, 48, 50, 52, 53, 54, 55, 56, 57, 60, 62, 63, 64, 65, 66, 68, 70, 73, 75, 77, 78, 82, 84, 85, 86, 88, 90, 92, 93, 94, 95, 96, 97, 98}\n"
     ]
    }
   ],
   "source": [
    "# Your code here\n",
    "\n",
    "# define list to remove\n",
    "list_to_remove = [1, 9, 11, 19, 21, 29, 31, 39, 41, 49, 51, 59, 61, 69, 71, 79, 81, 89, 91, 99]\n",
    "\n",
    "# convert list_to_remove to set in order to make use of difference_update method\n",
    "set_to_remove = set(list_to_remove)\n",
    "\n",
    "# remove elements from list_to_remove in set1\n",
    "set1.difference_update(set_to_remove)\n",
    "\n",
    "# print what remains of set1\n",
    "print(set1)"
   ]
  },
  {
   "cell_type": "markdown",
   "metadata": {},
   "source": [
    "#### 15 -The objective of this lab is to provide you a overview of manipulating sets in Python and how they can be integrated within a real usecase\n",
    "#### For the exercises below it's strongly advised to quickly check this link: https://docs.python.org/2/library/sets.html#sets.Set\n",
    "#### Imagine you need to create the grocery list for your family! Below you will see a list of items each family member wants. There will be repetitions because this family has the habbit of each time they notice something is missing to write it down. The problem is that they don't really talk to each other and therefore some items in the list are repeated. With the collection of questions below you will see how they solve repetion and create a grocery list with unique elements.\n",
    "\n"
   ]
  },
  {
   "cell_type": "code",
   "execution_count": 16,
   "metadata": {},
   "outputs": [],
   "source": [
    "father_list = ['garlic', 'watermelon', 'toilet paper', 'yogurt', 'onions', 'gums', 'flour', 'cucumber', 'watermelon', 'yogurt', 'garlic']\n",
    "\n",
    "mother_list = []\n",
    "\n",
    "Jo_list = ['blueberries', 'sugar', 'watermelon', 'gums', 'tomatoes', 'yogurt', 'juice', 'milk', 'onions', 'garlic', 'cucumber', 'sugar', 'blueberries', 'gums', 'yogurt']\n",
    "\n",
    "Carlos_list = ['tomatoes', 'water', 'onions', 'blueberries', 'garlic', 'flour', 'cherries', 'tomatoes', 'onions', 'water', 'tomatoes', 'toilet paper']\n",
    "\n",
    "Mattia_list = []\n",
    "\n",
    "\n"
   ]
  },
  {
   "cell_type": "markdown",
   "metadata": {},
   "source": [
    "#### 15.1- As you can see there are items repeated in each list. Creat a sequence of iterable elements with dintinct items that each family member wants. You can do it in two different ways. Assign each one (set) to a variable with the name of the family member (ex: father_set)."
   ]
  },
  {
   "cell_type": "code",
   "execution_count": 17,
   "metadata": {},
   "outputs": [],
   "source": [
    "# Your code here\n",
    "\n",
    "# converting the lists to sets\n",
    "father_set = set(father_list)\n",
    "\n",
    "mother_set = set(mother_list)\n",
    "\n",
    "Jo_set = set(Jo_list)\n",
    "\n",
    "Carlos_set = set(Carlos_list)\n",
    "\n",
    "Mattia_set = set(Mattia_list)"
   ]
  },
  {
   "cell_type": "markdown",
   "metadata": {},
   "source": [
    "#### 15.2- Q: Mattia wants the same items that his brother Carlos and his sister Jo but doesn't want anything they both want.\n",
    "\n",
    "##### Hint: check out the documentation for `x.symmetric_difference(y)`."
   ]
  },
  {
   "cell_type": "code",
   "execution_count": 18,
   "metadata": {},
   "outputs": [
    {
     "name": "stdout",
     "output_type": "stream",
     "text": [
      "{'juice', 'water', 'yogurt', 'cherries', 'cucumber', 'toilet paper', 'gums', 'watermelon', 'milk', 'flour', 'sugar'}\n"
     ]
    }
   ],
   "source": [
    "# Your code here\n",
    "\n",
    "# get the symmetric difference between Carlos and Jo\n",
    "Mattia_set = Carlos_set.symmetric_difference(Jo_set)\n",
    "\n",
    "# print what Mattia wants\n",
    "print(Mattia_set)\n"
   ]
  },
  {
   "cell_type": "markdown",
   "metadata": {},
   "source": [
    "#### 15.3- The line of code below  will  generate a list of random elements from a collection of items, with replacement. Run it and from it create a sequence of unique elements and assign it to the variable mother.\n"
   ]
  },
  {
   "cell_type": "code",
   "execution_count": 19,
   "metadata": {},
   "outputs": [
    {
     "name": "stdout",
     "output_type": "stream",
     "text": [
      "['cucumber', 'vinegar', 'chocolate', 'yogurt', 'flour', 'oranges', 'juice', 'watermelon', 'bread', 'watermelon']\n"
     ]
    }
   ],
   "source": [
    "import random\n",
    "items = ['milk', 'water', 'chocolate', 'blueberries', 'shampoo', 'flour', 'bread', 'sugar', 'watermelon', 'vinegar', 'tomatoes', 'yogurt', 'juice', 'gums', 'onions', 'garlic', 'cucumber', 'mushrooms', 'toilet paper', 'oranges', 'deodorant', 'cherries']\n",
    "\n",
    "mother_list = random.choices(items,k = 10) # https://docs.python.org/3/library/random.html\n",
    "\n",
    "print(mother_list)"
   ]
  },
  {
   "cell_type": "code",
   "execution_count": 20,
   "metadata": {},
   "outputs": [
    {
     "name": "stdout",
     "output_type": "stream",
     "text": [
      "{'juice', 'chocolate', 'yogurt', 'vinegar', 'cucumber', 'watermelon', 'bread', 'flour', 'oranges'}\n"
     ]
    }
   ],
   "source": [
    "# Your code here\n",
    "\n",
    "# assign the mother_list converted to a set as mother_set\n",
    "mother_set = set(mother_list)\n",
    "\n",
    "# print mother_set\n",
    "print(mother_set)\n"
   ]
  },
  {
   "cell_type": "markdown",
   "metadata": {},
   "source": [
    "#### 15.4- Before leaving the house to the grocery store the father found a lot of toilet paper, so the mother decided to remove it from the items needed to be bought. Use the `.discard()` method to remove from each set created before the 'toilet paper'. \n",
    "\n",
    "#### Hint: Try to first create a list contaning the variables of each set created before, then loop through them and remove the unecessary item. \n",
    "\n",
    "##### Note: The`.discard()` method will remove and update the set without the need of reassignment.\n",
    "\n"
   ]
  },
  {
   "cell_type": "code",
   "execution_count": 21,
   "metadata": {},
   "outputs": [
    {
     "name": "stdout",
     "output_type": "stream",
     "text": [
      "[{'yogurt', 'onions', 'cucumber', 'gums', 'watermelon', 'garlic', 'flour'}, {'juice', 'chocolate', 'yogurt', 'vinegar', 'cucumber', 'watermelon', 'bread', 'flour', 'oranges'}, {'juice', 'yogurt', 'tomatoes', 'onions', 'cucumber', 'gums', 'watermelon', 'garlic', 'milk', 'blueberries', 'sugar'}, {'blueberries', 'flour', 'tomatoes', 'cherries', 'onions', 'garlic', 'water'}, {'juice', 'water', 'yogurt', 'cherries', 'cucumber', 'gums', 'watermelon', 'milk', 'flour', 'sugar'}]\n"
     ]
    }
   ],
   "source": [
    "# Your code here\n",
    "\n",
    "# create a list containing all sets\n",
    "family_list = [father_set, mother_set, Jo_set, Carlos_set, Mattia_set]\n",
    "\n",
    "# discard toilet paper from each set\n",
    "for personal_set in family_list:\n",
    "    personal_set.discard('toilet paper')\n",
    "    \n",
    "# print new family list\n",
    "print(family_list)"
   ]
  },
  {
   "cell_type": "markdown",
   "metadata": {},
   "source": [
    "#### 15.5- Create a set with all the groceries needed to be bought for the house (no repetitions)."
   ]
  },
  {
   "cell_type": "code",
   "execution_count": 22,
   "metadata": {},
   "outputs": [
    {
     "name": "stdout",
     "output_type": "stream",
     "text": [
      "{'juice', 'chocolate', 'blueberries', 'water', 'yogurt', 'vinegar', 'tomatoes', 'cherries', 'onions', 'cucumber', 'milk', 'gums', 'watermelon', 'garlic', 'bread', 'flour', 'oranges', 'sugar'}\n"
     ]
    }
   ],
   "source": [
    "# Your code here\n",
    "\n",
    "# create one set of items from the family_list list by using a list comprehension where you flatten a list of list containing the personal sets converted to lists.\n",
    "family_set = set([item for personal_set in family_list for item in list(personal_set)])\n",
    "\n",
    "# print new family set of item\n",
    "print(family_set)"
   ]
  },
  {
   "cell_type": "markdown",
   "metadata": {},
   "source": [
    "#### 15.6- The Father said that he could only buy five items this time. So he decided to arbitraly pick wich ones to buy this time.\n",
    "\n",
    "##### Hint: use the `.pop()` method."
   ]
  },
  {
   "cell_type": "code",
   "execution_count": 23,
   "metadata": {},
   "outputs": [
    {
     "name": "stdout",
     "output_type": "stream",
     "text": [
      "['juice', 'chocolate', 'blueberries', 'water', 'yogurt']\n"
     ]
    }
   ],
   "source": [
    "# Your code here\n",
    "\n",
    "# make 5 random choices from the family_set using the .pop() method\n",
    "five_items_to_buy = [family_set.pop() for n in range(5)]\n",
    "\n",
    "# print the 5 items\n",
    "print(five_items_to_buy)"
   ]
  }
 ],
 "metadata": {
  "kernelspec": {
   "display_name": "Python 3",
   "language": "python",
   "name": "python3"
  },
  "language_info": {
   "codemirror_mode": {
    "name": "ipython",
    "version": 3
   },
   "file_extension": ".py",
   "mimetype": "text/x-python",
   "name": "python",
   "nbconvert_exporter": "python",
   "pygments_lexer": "ipython3",
   "version": "3.7.6"
  }
 },
 "nbformat": 4,
 "nbformat_minor": 2
}
